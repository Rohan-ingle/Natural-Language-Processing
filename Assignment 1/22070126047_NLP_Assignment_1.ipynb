{
 "cells": [
  {
   "cell_type": "markdown",
   "metadata": {},
   "source": [
    "### My Details"
   ]
  },
  {
   "cell_type": "markdown",
   "metadata": {},
   "source": [
    "**Name** : `Rohan Ingle`    \n",
    "\n",
    "**PRN** : `22070126047`     \n",
    "\n",
    "**Batch** : `AIML A2 (2022-2026)`   "
   ]
  },
  {
   "cell_type": "markdown",
   "metadata": {},
   "source": [
    "### GitHub Link : [https://github.com/Rohan-ingle/Natural-Language-Processing](https://github.com/Rohan-ingle/Natural-Language-Processing)"
   ]
  },
  {
   "cell_type": "markdown",
   "metadata": {},
   "source": [
    "### Importing Required Libraries"
   ]
  },
  {
   "cell_type": "code",
   "execution_count": 2,
   "metadata": {},
   "outputs": [],
   "source": [
    "import warnings\n",
    "\n",
    "import re\n",
    "import pandas as pd\n",
    "import cudf\n",
    "import cupy as cp\n",
    "\n",
    "from sklearn.model_selection import GridSearchCV\n",
    "from sklearn.linear_model import LogisticRegression\n",
    "from sklearn.feature_extraction.text import CountVectorizer, TfidfVectorizer\n",
    "from sklearn.ensemble import RandomForestClassifier\n",
    "from sklearn.svm import SVC\n",
    "from sklearn.preprocessing import LabelEncoder\n",
    "from sklearn.metrics import classification_report, confusion_matrix\n",
    "\n",
    "from scipy.sparse import csr_matrix\n",
    "from cuml.svm import SVC as cuSVC\n",
    "from cuml.ensemble import RandomForestClassifier as cuRF\n",
    "\n",
    "import nltk\n",
    "from nltk.corpus import stopwords\n",
    "from nltk.tokenize import word_tokenize\n",
    "from nltk.stem import WordNetLemmatizer\n",
    "\n",
    "import seaborn as sns\n",
    "import matplotlib.pyplot as plt\n",
    "\n",
    "\n",
    "\n",
    "warnings.filterwarnings(\"ignore\")"
   ]
  },
  {
   "cell_type": "code",
   "execution_count": 2,
   "metadata": {},
   "outputs": [
    {
     "name": "stderr",
     "output_type": "stream",
     "text": [
      "[nltk_data] Downloading collection 'all'\n",
      "[nltk_data]    | \n",
      "[nltk_data]    | Downloading package abc to\n",
      "[nltk_data]    |     /home/speedindeed1/nltk_data...\n",
      "[nltk_data]    |   Package abc is already up-to-date!\n",
      "[nltk_data]    | Downloading package alpino to\n",
      "[nltk_data]    |     /home/speedindeed1/nltk_data...\n",
      "[nltk_data]    |   Package alpino is already up-to-date!\n",
      "[nltk_data]    | Downloading package averaged_perceptron_tagger to\n",
      "[nltk_data]    |     /home/speedindeed1/nltk_data...\n",
      "[nltk_data]    |   Package averaged_perceptron_tagger is already up-\n",
      "[nltk_data]    |       to-date!\n",
      "[nltk_data]    | Downloading package averaged_perceptron_tagger_eng to\n",
      "[nltk_data]    |     /home/speedindeed1/nltk_data...\n",
      "[nltk_data]    |   Package averaged_perceptron_tagger_eng is already\n",
      "[nltk_data]    |       up-to-date!\n",
      "[nltk_data]    | Downloading package averaged_perceptron_tagger_ru to\n",
      "[nltk_data]    |     /home/speedindeed1/nltk_data...\n",
      "[nltk_data]    |   Package averaged_perceptron_tagger_ru is already\n",
      "[nltk_data]    |       up-to-date!\n",
      "[nltk_data]    | Downloading package averaged_perceptron_tagger_rus to\n",
      "[nltk_data]    |     /home/speedindeed1/nltk_data...\n",
      "[nltk_data]    |   Package averaged_perceptron_tagger_rus is already\n",
      "[nltk_data]    |       up-to-date!\n",
      "[nltk_data]    | Downloading package basque_grammars to\n",
      "[nltk_data]    |     /home/speedindeed1/nltk_data...\n",
      "[nltk_data]    |   Package basque_grammars is already up-to-date!\n",
      "[nltk_data]    | Downloading package bcp47 to\n",
      "[nltk_data]    |     /home/speedindeed1/nltk_data...\n",
      "[nltk_data]    |   Package bcp47 is already up-to-date!\n",
      "[nltk_data]    | Downloading package biocreative_ppi to\n",
      "[nltk_data]    |     /home/speedindeed1/nltk_data...\n",
      "[nltk_data]    |   Package biocreative_ppi is already up-to-date!\n",
      "[nltk_data]    | Downloading package bllip_wsj_no_aux to\n",
      "[nltk_data]    |     /home/speedindeed1/nltk_data...\n",
      "[nltk_data]    |   Package bllip_wsj_no_aux is already up-to-date!\n",
      "[nltk_data]    | Downloading package book_grammars to\n",
      "[nltk_data]    |     /home/speedindeed1/nltk_data...\n",
      "[nltk_data]    |   Package book_grammars is already up-to-date!\n",
      "[nltk_data]    | Downloading package brown to\n",
      "[nltk_data]    |     /home/speedindeed1/nltk_data...\n",
      "[nltk_data]    |   Package brown is already up-to-date!\n",
      "[nltk_data]    | Downloading package brown_tei to\n",
      "[nltk_data]    |     /home/speedindeed1/nltk_data...\n",
      "[nltk_data]    |   Package brown_tei is already up-to-date!\n",
      "[nltk_data]    | Downloading package cess_cat to\n",
      "[nltk_data]    |     /home/speedindeed1/nltk_data...\n",
      "[nltk_data]    |   Package cess_cat is already up-to-date!\n",
      "[nltk_data]    | Downloading package cess_esp to\n",
      "[nltk_data]    |     /home/speedindeed1/nltk_data...\n",
      "[nltk_data]    |   Package cess_esp is already up-to-date!\n",
      "[nltk_data]    | Downloading package chat80 to\n",
      "[nltk_data]    |     /home/speedindeed1/nltk_data...\n",
      "[nltk_data]    |   Package chat80 is already up-to-date!\n",
      "[nltk_data]    | Downloading package city_database to\n",
      "[nltk_data]    |     /home/speedindeed1/nltk_data...\n",
      "[nltk_data]    |   Package city_database is already up-to-date!\n",
      "[nltk_data]    | Downloading package cmudict to\n",
      "[nltk_data]    |     /home/speedindeed1/nltk_data...\n",
      "[nltk_data]    |   Package cmudict is already up-to-date!\n",
      "[nltk_data]    | Downloading package comparative_sentences to\n",
      "[nltk_data]    |     /home/speedindeed1/nltk_data...\n",
      "[nltk_data]    |   Package comparative_sentences is already up-to-\n",
      "[nltk_data]    |       date!\n",
      "[nltk_data]    | Downloading package comtrans to\n",
      "[nltk_data]    |     /home/speedindeed1/nltk_data...\n",
      "[nltk_data]    |   Package comtrans is already up-to-date!\n",
      "[nltk_data]    | Downloading package conll2000 to\n",
      "[nltk_data]    |     /home/speedindeed1/nltk_data...\n",
      "[nltk_data]    |   Package conll2000 is already up-to-date!\n",
      "[nltk_data]    | Downloading package conll2002 to\n",
      "[nltk_data]    |     /home/speedindeed1/nltk_data...\n",
      "[nltk_data]    |   Package conll2002 is already up-to-date!\n",
      "[nltk_data]    | Downloading package conll2007 to\n",
      "[nltk_data]    |     /home/speedindeed1/nltk_data...\n",
      "[nltk_data]    |   Package conll2007 is already up-to-date!\n",
      "[nltk_data]    | Downloading package crubadan to\n",
      "[nltk_data]    |     /home/speedindeed1/nltk_data...\n",
      "[nltk_data]    |   Package crubadan is already up-to-date!\n",
      "[nltk_data]    | Downloading package dependency_treebank to\n",
      "[nltk_data]    |     /home/speedindeed1/nltk_data...\n",
      "[nltk_data]    |   Package dependency_treebank is already up-to-date!\n",
      "[nltk_data]    | Downloading package dolch to\n",
      "[nltk_data]    |     /home/speedindeed1/nltk_data...\n",
      "[nltk_data]    |   Package dolch is already up-to-date!\n",
      "[nltk_data]    | Downloading package europarl_raw to\n",
      "[nltk_data]    |     /home/speedindeed1/nltk_data...\n",
      "[nltk_data]    |   Package europarl_raw is already up-to-date!\n",
      "[nltk_data]    | Downloading package extended_omw to\n",
      "[nltk_data]    |     /home/speedindeed1/nltk_data...\n",
      "[nltk_data]    |   Package extended_omw is already up-to-date!\n",
      "[nltk_data]    | Downloading package floresta to\n",
      "[nltk_data]    |     /home/speedindeed1/nltk_data...\n",
      "[nltk_data]    |   Package floresta is already up-to-date!\n",
      "[nltk_data]    | Downloading package framenet_v15 to\n",
      "[nltk_data]    |     /home/speedindeed1/nltk_data...\n",
      "[nltk_data]    |   Package framenet_v15 is already up-to-date!\n",
      "[nltk_data]    | Downloading package framenet_v17 to\n",
      "[nltk_data]    |     /home/speedindeed1/nltk_data...\n",
      "[nltk_data]    |   Package framenet_v17 is already up-to-date!\n",
      "[nltk_data]    | Downloading package gazetteers to\n",
      "[nltk_data]    |     /home/speedindeed1/nltk_data...\n",
      "[nltk_data]    |   Package gazetteers is already up-to-date!\n",
      "[nltk_data]    | Downloading package genesis to\n",
      "[nltk_data]    |     /home/speedindeed1/nltk_data...\n",
      "[nltk_data]    |   Package genesis is already up-to-date!\n",
      "[nltk_data]    | Downloading package gutenberg to\n",
      "[nltk_data]    |     /home/speedindeed1/nltk_data...\n",
      "[nltk_data]    |   Package gutenberg is already up-to-date!\n",
      "[nltk_data]    | Downloading package ieer to\n",
      "[nltk_data]    |     /home/speedindeed1/nltk_data...\n",
      "[nltk_data]    |   Package ieer is already up-to-date!\n",
      "[nltk_data]    | Downloading package inaugural to\n",
      "[nltk_data]    |     /home/speedindeed1/nltk_data...\n",
      "[nltk_data]    |   Package inaugural is already up-to-date!\n",
      "[nltk_data]    | Downloading package indian to\n",
      "[nltk_data]    |     /home/speedindeed1/nltk_data...\n",
      "[nltk_data]    |   Package indian is already up-to-date!\n",
      "[nltk_data]    | Downloading package jeita to\n",
      "[nltk_data]    |     /home/speedindeed1/nltk_data...\n",
      "[nltk_data]    |   Package jeita is already up-to-date!\n",
      "[nltk_data]    | Downloading package kimmo to\n",
      "[nltk_data]    |     /home/speedindeed1/nltk_data...\n",
      "[nltk_data]    |   Package kimmo is already up-to-date!\n",
      "[nltk_data]    | Downloading package knbc to\n",
      "[nltk_data]    |     /home/speedindeed1/nltk_data...\n",
      "[nltk_data]    |   Package knbc is already up-to-date!\n",
      "[nltk_data]    | Downloading package large_grammars to\n",
      "[nltk_data]    |     /home/speedindeed1/nltk_data...\n",
      "[nltk_data]    |   Package large_grammars is already up-to-date!\n",
      "[nltk_data]    | Downloading package lin_thesaurus to\n",
      "[nltk_data]    |     /home/speedindeed1/nltk_data...\n",
      "[nltk_data]    |   Package lin_thesaurus is already up-to-date!\n",
      "[nltk_data]    | Downloading package mac_morpho to\n",
      "[nltk_data]    |     /home/speedindeed1/nltk_data...\n",
      "[nltk_data]    |   Package mac_morpho is already up-to-date!\n",
      "[nltk_data]    | Downloading package machado to\n",
      "[nltk_data]    |     /home/speedindeed1/nltk_data...\n",
      "[nltk_data]    |   Package machado is already up-to-date!\n",
      "[nltk_data]    | Downloading package masc_tagged to\n",
      "[nltk_data]    |     /home/speedindeed1/nltk_data...\n",
      "[nltk_data]    |   Package masc_tagged is already up-to-date!\n",
      "[nltk_data]    | Downloading package maxent_ne_chunker to\n",
      "[nltk_data]    |     /home/speedindeed1/nltk_data...\n",
      "[nltk_data]    |   Package maxent_ne_chunker is already up-to-date!\n",
      "[nltk_data]    | Downloading package maxent_ne_chunker_tab to\n",
      "[nltk_data]    |     /home/speedindeed1/nltk_data...\n",
      "[nltk_data]    |   Package maxent_ne_chunker_tab is already up-to-\n",
      "[nltk_data]    |       date!\n",
      "[nltk_data]    | Downloading package maxent_treebank_pos_tagger to\n",
      "[nltk_data]    |     /home/speedindeed1/nltk_data...\n",
      "[nltk_data]    |   Package maxent_treebank_pos_tagger is already up-\n",
      "[nltk_data]    |       to-date!\n",
      "[nltk_data]    | Downloading package maxent_treebank_pos_tagger_tab to\n",
      "[nltk_data]    |     /home/speedindeed1/nltk_data...\n",
      "[nltk_data]    |   Package maxent_treebank_pos_tagger_tab is already\n",
      "[nltk_data]    |       up-to-date!\n",
      "[nltk_data]    | Downloading package moses_sample to\n",
      "[nltk_data]    |     /home/speedindeed1/nltk_data...\n",
      "[nltk_data]    |   Package moses_sample is already up-to-date!\n",
      "[nltk_data]    | Downloading package movie_reviews to\n",
      "[nltk_data]    |     /home/speedindeed1/nltk_data...\n",
      "[nltk_data]    |   Package movie_reviews is already up-to-date!\n",
      "[nltk_data]    | Downloading package mte_teip5 to\n",
      "[nltk_data]    |     /home/speedindeed1/nltk_data...\n",
      "[nltk_data]    |   Package mte_teip5 is already up-to-date!\n",
      "[nltk_data]    | Downloading package mwa_ppdb to\n",
      "[nltk_data]    |     /home/speedindeed1/nltk_data...\n",
      "[nltk_data]    |   Package mwa_ppdb is already up-to-date!\n",
      "[nltk_data]    | Downloading package names to\n",
      "[nltk_data]    |     /home/speedindeed1/nltk_data...\n",
      "[nltk_data]    |   Package names is already up-to-date!\n",
      "[nltk_data]    | Downloading package nombank.1.0 to\n",
      "[nltk_data]    |     /home/speedindeed1/nltk_data...\n",
      "[nltk_data]    |   Package nombank.1.0 is already up-to-date!\n",
      "[nltk_data]    | Downloading package nonbreaking_prefixes to\n",
      "[nltk_data]    |     /home/speedindeed1/nltk_data...\n",
      "[nltk_data]    |   Package nonbreaking_prefixes is already up-to-date!\n",
      "[nltk_data]    | Downloading package nps_chat to\n",
      "[nltk_data]    |     /home/speedindeed1/nltk_data...\n",
      "[nltk_data]    |   Package nps_chat is already up-to-date!\n",
      "[nltk_data]    | Downloading package omw to\n",
      "[nltk_data]    |     /home/speedindeed1/nltk_data...\n",
      "[nltk_data]    |   Package omw is already up-to-date!\n",
      "[nltk_data]    | Downloading package omw-1.4 to\n",
      "[nltk_data]    |     /home/speedindeed1/nltk_data...\n",
      "[nltk_data]    |   Package omw-1.4 is already up-to-date!\n",
      "[nltk_data]    | Downloading package opinion_lexicon to\n",
      "[nltk_data]    |     /home/speedindeed1/nltk_data...\n",
      "[nltk_data]    |   Package opinion_lexicon is already up-to-date!\n",
      "[nltk_data]    | Downloading package panlex_swadesh to\n",
      "[nltk_data]    |     /home/speedindeed1/nltk_data...\n",
      "[nltk_data]    |   Package panlex_swadesh is already up-to-date!\n",
      "[nltk_data]    | Downloading package paradigms to\n",
      "[nltk_data]    |     /home/speedindeed1/nltk_data...\n",
      "[nltk_data]    |   Package paradigms is already up-to-date!\n",
      "[nltk_data]    | Downloading package pe08 to\n",
      "[nltk_data]    |     /home/speedindeed1/nltk_data...\n",
      "[nltk_data]    |   Package pe08 is already up-to-date!\n",
      "[nltk_data]    | Downloading package perluniprops to\n",
      "[nltk_data]    |     /home/speedindeed1/nltk_data...\n",
      "[nltk_data]    |   Package perluniprops is already up-to-date!\n",
      "[nltk_data]    | Downloading package pil to\n",
      "[nltk_data]    |     /home/speedindeed1/nltk_data...\n",
      "[nltk_data]    |   Package pil is already up-to-date!\n",
      "[nltk_data]    | Downloading package pl196x to\n",
      "[nltk_data]    |     /home/speedindeed1/nltk_data...\n",
      "[nltk_data]    |   Package pl196x is already up-to-date!\n",
      "[nltk_data]    | Downloading package porter_test to\n",
      "[nltk_data]    |     /home/speedindeed1/nltk_data...\n",
      "[nltk_data]    |   Package porter_test is already up-to-date!\n",
      "[nltk_data]    | Downloading package ppattach to\n",
      "[nltk_data]    |     /home/speedindeed1/nltk_data...\n",
      "[nltk_data]    |   Package ppattach is already up-to-date!\n",
      "[nltk_data]    | Downloading package problem_reports to\n",
      "[nltk_data]    |     /home/speedindeed1/nltk_data...\n",
      "[nltk_data]    |   Package problem_reports is already up-to-date!\n",
      "[nltk_data]    | Downloading package product_reviews_1 to\n",
      "[nltk_data]    |     /home/speedindeed1/nltk_data...\n",
      "[nltk_data]    |   Package product_reviews_1 is already up-to-date!\n",
      "[nltk_data]    | Downloading package product_reviews_2 to\n",
      "[nltk_data]    |     /home/speedindeed1/nltk_data...\n",
      "[nltk_data]    |   Package product_reviews_2 is already up-to-date!\n",
      "[nltk_data]    | Downloading package propbank to\n",
      "[nltk_data]    |     /home/speedindeed1/nltk_data...\n",
      "[nltk_data]    |   Package propbank is already up-to-date!\n",
      "[nltk_data]    | Downloading package pros_cons to\n",
      "[nltk_data]    |     /home/speedindeed1/nltk_data...\n",
      "[nltk_data]    |   Package pros_cons is already up-to-date!\n",
      "[nltk_data]    | Downloading package ptb to\n",
      "[nltk_data]    |     /home/speedindeed1/nltk_data...\n",
      "[nltk_data]    |   Package ptb is already up-to-date!\n",
      "[nltk_data]    | Downloading package punkt to\n",
      "[nltk_data]    |     /home/speedindeed1/nltk_data...\n",
      "[nltk_data]    |   Package punkt is already up-to-date!\n",
      "[nltk_data]    | Downloading package punkt_tab to\n",
      "[nltk_data]    |     /home/speedindeed1/nltk_data...\n",
      "[nltk_data]    |   Package punkt_tab is already up-to-date!\n",
      "[nltk_data]    | Downloading package qc to\n",
      "[nltk_data]    |     /home/speedindeed1/nltk_data...\n",
      "[nltk_data]    |   Package qc is already up-to-date!\n",
      "[nltk_data]    | Downloading package reuters to\n",
      "[nltk_data]    |     /home/speedindeed1/nltk_data...\n",
      "[nltk_data]    |   Package reuters is already up-to-date!\n",
      "[nltk_data]    | Downloading package rslp to\n",
      "[nltk_data]    |     /home/speedindeed1/nltk_data...\n",
      "[nltk_data]    |   Package rslp is already up-to-date!\n",
      "[nltk_data]    | Downloading package rte to\n",
      "[nltk_data]    |     /home/speedindeed1/nltk_data...\n",
      "[nltk_data]    |   Package rte is already up-to-date!\n",
      "[nltk_data]    | Downloading package sample_grammars to\n",
      "[nltk_data]    |     /home/speedindeed1/nltk_data...\n",
      "[nltk_data]    |   Package sample_grammars is already up-to-date!\n",
      "[nltk_data]    | Downloading package semcor to\n",
      "[nltk_data]    |     /home/speedindeed1/nltk_data...\n",
      "[nltk_data]    |   Package semcor is already up-to-date!\n",
      "[nltk_data]    | Downloading package senseval to\n",
      "[nltk_data]    |     /home/speedindeed1/nltk_data...\n",
      "[nltk_data]    |   Package senseval is already up-to-date!\n",
      "[nltk_data]    | Downloading package sentence_polarity to\n",
      "[nltk_data]    |     /home/speedindeed1/nltk_data...\n",
      "[nltk_data]    |   Package sentence_polarity is already up-to-date!\n",
      "[nltk_data]    | Downloading package sentiwordnet to\n",
      "[nltk_data]    |     /home/speedindeed1/nltk_data...\n",
      "[nltk_data]    |   Package sentiwordnet is already up-to-date!\n",
      "[nltk_data]    | Downloading package shakespeare to\n",
      "[nltk_data]    |     /home/speedindeed1/nltk_data...\n",
      "[nltk_data]    |   Package shakespeare is already up-to-date!\n",
      "[nltk_data]    | Downloading package sinica_treebank to\n",
      "[nltk_data]    |     /home/speedindeed1/nltk_data...\n",
      "[nltk_data]    |   Package sinica_treebank is already up-to-date!\n",
      "[nltk_data]    | Downloading package smultron to\n",
      "[nltk_data]    |     /home/speedindeed1/nltk_data...\n",
      "[nltk_data]    |   Package smultron is already up-to-date!\n",
      "[nltk_data]    | Downloading package snowball_data to\n",
      "[nltk_data]    |     /home/speedindeed1/nltk_data...\n",
      "[nltk_data]    |   Package snowball_data is already up-to-date!\n",
      "[nltk_data]    | Downloading package spanish_grammars to\n",
      "[nltk_data]    |     /home/speedindeed1/nltk_data...\n",
      "[nltk_data]    |   Package spanish_grammars is already up-to-date!\n",
      "[nltk_data]    | Downloading package state_union to\n",
      "[nltk_data]    |     /home/speedindeed1/nltk_data...\n",
      "[nltk_data]    |   Package state_union is already up-to-date!\n",
      "[nltk_data]    | Downloading package stopwords to\n",
      "[nltk_data]    |     /home/speedindeed1/nltk_data...\n",
      "[nltk_data]    |   Package stopwords is already up-to-date!\n",
      "[nltk_data]    | Downloading package subjectivity to\n",
      "[nltk_data]    |     /home/speedindeed1/nltk_data...\n",
      "[nltk_data]    |   Package subjectivity is already up-to-date!\n",
      "[nltk_data]    | Downloading package swadesh to\n",
      "[nltk_data]    |     /home/speedindeed1/nltk_data...\n",
      "[nltk_data]    |   Package swadesh is already up-to-date!\n",
      "[nltk_data]    | Downloading package switchboard to\n",
      "[nltk_data]    |     /home/speedindeed1/nltk_data...\n",
      "[nltk_data]    |   Package switchboard is already up-to-date!\n",
      "[nltk_data]    | Downloading package tagsets to\n",
      "[nltk_data]    |     /home/speedindeed1/nltk_data...\n",
      "[nltk_data]    |   Package tagsets is already up-to-date!\n",
      "[nltk_data]    | Downloading package tagsets_json to\n",
      "[nltk_data]    |     /home/speedindeed1/nltk_data...\n",
      "[nltk_data]    |   Package tagsets_json is already up-to-date!\n",
      "[nltk_data]    | Downloading package timit to\n",
      "[nltk_data]    |     /home/speedindeed1/nltk_data...\n",
      "[nltk_data]    |   Package timit is already up-to-date!\n",
      "[nltk_data]    | Downloading package toolbox to\n",
      "[nltk_data]    |     /home/speedindeed1/nltk_data...\n",
      "[nltk_data]    |   Package toolbox is already up-to-date!\n",
      "[nltk_data]    | Downloading package treebank to\n",
      "[nltk_data]    |     /home/speedindeed1/nltk_data...\n",
      "[nltk_data]    |   Package treebank is already up-to-date!\n",
      "[nltk_data]    | Downloading package twitter_samples to\n",
      "[nltk_data]    |     /home/speedindeed1/nltk_data...\n",
      "[nltk_data]    |   Package twitter_samples is already up-to-date!\n",
      "[nltk_data]    | Downloading package udhr to\n",
      "[nltk_data]    |     /home/speedindeed1/nltk_data...\n",
      "[nltk_data]    |   Package udhr is already up-to-date!\n",
      "[nltk_data]    | Downloading package udhr2 to\n",
      "[nltk_data]    |     /home/speedindeed1/nltk_data...\n",
      "[nltk_data]    |   Package udhr2 is already up-to-date!\n",
      "[nltk_data]    | Downloading package unicode_samples to\n",
      "[nltk_data]    |     /home/speedindeed1/nltk_data...\n",
      "[nltk_data]    |   Package unicode_samples is already up-to-date!\n",
      "[nltk_data]    | Downloading package universal_tagset to\n",
      "[nltk_data]    |     /home/speedindeed1/nltk_data...\n",
      "[nltk_data]    |   Package universal_tagset is already up-to-date!\n",
      "[nltk_data]    | Downloading package universal_treebanks_v20 to\n",
      "[nltk_data]    |     /home/speedindeed1/nltk_data...\n",
      "[nltk_data]    |   Package universal_treebanks_v20 is already up-to-\n",
      "[nltk_data]    |       date!\n",
      "[nltk_data]    | Downloading package vader_lexicon to\n",
      "[nltk_data]    |     /home/speedindeed1/nltk_data...\n",
      "[nltk_data]    |   Package vader_lexicon is already up-to-date!\n",
      "[nltk_data]    | Downloading package verbnet to\n",
      "[nltk_data]    |     /home/speedindeed1/nltk_data...\n",
      "[nltk_data]    |   Package verbnet is already up-to-date!\n",
      "[nltk_data]    | Downloading package verbnet3 to\n",
      "[nltk_data]    |     /home/speedindeed1/nltk_data...\n",
      "[nltk_data]    |   Package verbnet3 is already up-to-date!\n",
      "[nltk_data]    | Downloading package webtext to\n",
      "[nltk_data]    |     /home/speedindeed1/nltk_data...\n",
      "[nltk_data]    |   Package webtext is already up-to-date!\n",
      "[nltk_data]    | Downloading package wmt15_eval to\n",
      "[nltk_data]    |     /home/speedindeed1/nltk_data...\n",
      "[nltk_data]    |   Package wmt15_eval is already up-to-date!\n",
      "[nltk_data]    | Downloading package word2vec_sample to\n",
      "[nltk_data]    |     /home/speedindeed1/nltk_data...\n",
      "[nltk_data]    |   Package word2vec_sample is already up-to-date!\n",
      "[nltk_data]    | Downloading package wordnet to\n",
      "[nltk_data]    |     /home/speedindeed1/nltk_data...\n",
      "[nltk_data]    |   Package wordnet is already up-to-date!\n",
      "[nltk_data]    | Downloading package wordnet2021 to\n",
      "[nltk_data]    |     /home/speedindeed1/nltk_data...\n",
      "[nltk_data]    |   Package wordnet2021 is already up-to-date!\n",
      "[nltk_data]    | Downloading package wordnet2022 to\n",
      "[nltk_data]    |     /home/speedindeed1/nltk_data...\n",
      "[nltk_data]    |   Package wordnet2022 is already up-to-date!\n",
      "[nltk_data]    | Downloading package wordnet31 to\n",
      "[nltk_data]    |     /home/speedindeed1/nltk_data...\n",
      "[nltk_data]    |   Package wordnet31 is already up-to-date!\n",
      "[nltk_data]    | Downloading package wordnet_ic to\n",
      "[nltk_data]    |     /home/speedindeed1/nltk_data...\n",
      "[nltk_data]    |   Package wordnet_ic is already up-to-date!\n",
      "[nltk_data]    | Downloading package words to\n",
      "[nltk_data]    |     /home/speedindeed1/nltk_data...\n",
      "[nltk_data]    |   Package words is already up-to-date!\n",
      "[nltk_data]    | Downloading package ycoe to\n",
      "[nltk_data]    |     /home/speedindeed1/nltk_data...\n",
      "[nltk_data]    |   Package ycoe is already up-to-date!\n",
      "[nltk_data]    | \n",
      "[nltk_data]  Done downloading collection all\n"
     ]
    },
    {
     "data": {
      "text/plain": [
       "True"
      ]
     },
     "execution_count": 2,
     "metadata": {},
     "output_type": "execute_result"
    }
   ],
   "source": [
    "nltk.download('all')"
   ]
  },
  {
   "cell_type": "markdown",
   "metadata": {},
   "source": [
    "---"
   ]
  },
  {
   "cell_type": "markdown",
   "metadata": {},
   "source": [
    "### Loading Datasets into a `DataFrame`"
   ]
  },
  {
   "cell_type": "code",
   "execution_count": 3,
   "metadata": {},
   "outputs": [],
   "source": [
    "train = pd.read_csv('train.csv')\n",
    "test = pd.read_csv('test.csv') "
   ]
  },
  {
   "cell_type": "markdown",
   "metadata": {},
   "source": [
    "**Baisc Preprocessing**\n",
    "- Lets select only necessary features"
   ]
  },
  {
   "cell_type": "code",
   "execution_count": 4,
   "metadata": {},
   "outputs": [
    {
     "data": {
      "text/plain": [
       "array(['Rock', 'Metal', 'Pop', 'Indie', 'R&B', 'Folk', 'Electronic',\n",
       "       'Jazz', 'Hip-Hop', 'Country'], dtype=object)"
      ]
     },
     "execution_count": 4,
     "metadata": {},
     "output_type": "execute_result"
    }
   ],
   "source": [
    "train[\"Genre\"].unique()"
   ]
  },
  {
   "cell_type": "code",
   "execution_count": 5,
   "metadata": {},
   "outputs": [
    {
     "data": {
      "text/plain": [
       "array(['Hip-Hop', 'Indie', 'Metal', 'Pop', 'Country', 'Jazz', 'Rock',\n",
       "       'R&B', 'Electronic', 'Folk'], dtype=object)"
      ]
     },
     "execution_count": 5,
     "metadata": {},
     "output_type": "execute_result"
    }
   ],
   "source": [
    "test[\"Genre\"].unique()"
   ]
  },
  {
   "cell_type": "markdown",
   "metadata": {},
   "source": [
    "**Lets rename `Hip-Hop` to `HH` for simplicity**"
   ]
  },
  {
   "cell_type": "code",
   "execution_count": 4,
   "metadata": {},
   "outputs": [],
   "source": [
    "train['Genre'] = train['Genre'].str.replace('Hip-Hop', 'HH')\n",
    "test['Genre'] = test['Genre'].str.replace('Hip-Hop', 'HH')"
   ]
  },
  {
   "cell_type": "code",
   "execution_count": 7,
   "metadata": {},
   "outputs": [
    {
     "data": {
      "text/plain": [
       "array(['Rock', 'Metal', 'Pop', 'Indie', 'R&B', 'Folk', 'Electronic',\n",
       "       'Jazz', 'HH', 'Country'], dtype=object)"
      ]
     },
     "execution_count": 7,
     "metadata": {},
     "output_type": "execute_result"
    }
   ],
   "source": [
    "train[\"Genre\"].unique()"
   ]
  },
  {
   "cell_type": "code",
   "execution_count": 8,
   "metadata": {},
   "outputs": [
    {
     "data": {
      "text/plain": [
       "array(['HH', 'Indie', 'Metal', 'Pop', 'Country', 'Jazz', 'Rock', 'R&B',\n",
       "       'Electronic', 'Folk'], dtype=object)"
      ]
     },
     "execution_count": 8,
     "metadata": {},
     "output_type": "execute_result"
    }
   ],
   "source": [
    "test[\"Genre\"].unique()"
   ]
  },
  {
   "cell_type": "markdown",
   "metadata": {},
   "source": [
    "**Here we will only select `English` i.e. `'en'` songs only**"
   ]
  },
  {
   "cell_type": "code",
   "execution_count": 5,
   "metadata": {},
   "outputs": [],
   "source": [
    "genre = ['Rock', 'Jazz', 'HH', 'Metal', 'Country']\n",
    "train = train[(train['Genre'].isin(genre)) & (train['Language'] == 'en')]"
   ]
  },
  {
   "cell_type": "code",
   "execution_count": 10,
   "metadata": {},
   "outputs": [
    {
     "data": {
      "text/html": [
       "<div>\n",
       "<style scoped>\n",
       "    .dataframe tbody tr th:only-of-type {\n",
       "        vertical-align: middle;\n",
       "    }\n",
       "\n",
       "    .dataframe tbody tr th {\n",
       "        vertical-align: top;\n",
       "    }\n",
       "\n",
       "    .dataframe thead th {\n",
       "        text-align: right;\n",
       "    }\n",
       "</style>\n",
       "<table border=\"1\" class=\"dataframe\">\n",
       "  <thead>\n",
       "    <tr style=\"text-align: right;\">\n",
       "      <th></th>\n",
       "      <th>Artist</th>\n",
       "      <th>Song</th>\n",
       "      <th>Genre</th>\n",
       "      <th>Language</th>\n",
       "      <th>Lyrics</th>\n",
       "    </tr>\n",
       "  </thead>\n",
       "  <tbody>\n",
       "    <tr>\n",
       "      <th>count</th>\n",
       "      <td>143720</td>\n",
       "      <td>143719</td>\n",
       "      <td>143720</td>\n",
       "      <td>143720</td>\n",
       "      <td>143720</td>\n",
       "    </tr>\n",
       "    <tr>\n",
       "      <th>unique</th>\n",
       "      <td>6193</td>\n",
       "      <td>86662</td>\n",
       "      <td>5</td>\n",
       "      <td>1</td>\n",
       "      <td>127917</td>\n",
       "    </tr>\n",
       "    <tr>\n",
       "      <th>top</th>\n",
       "      <td>elvis presley</td>\n",
       "      <td>home</td>\n",
       "      <td>Rock</td>\n",
       "      <td>en</td>\n",
       "      <td>My heart is sad and lonely\\nFor you I sigh, fo...</td>\n",
       "    </tr>\n",
       "    <tr>\n",
       "      <th>freq</th>\n",
       "      <td>1598</td>\n",
       "      <td>87</td>\n",
       "      <td>107145</td>\n",
       "      <td>143720</td>\n",
       "      <td>83</td>\n",
       "    </tr>\n",
       "  </tbody>\n",
       "</table>\n",
       "</div>"
      ],
      "text/plain": [
       "               Artist    Song   Genre Language  \\\n",
       "count          143720  143719  143720   143720   \n",
       "unique           6193   86662       5        1   \n",
       "top     elvis presley    home    Rock       en   \n",
       "freq             1598      87  107145   143720   \n",
       "\n",
       "                                                   Lyrics  \n",
       "count                                              143720  \n",
       "unique                                             127917  \n",
       "top     My heart is sad and lonely\\nFor you I sigh, fo...  \n",
       "freq                                                   83  "
      ]
     },
     "execution_count": 10,
     "metadata": {},
     "output_type": "execute_result"
    }
   ],
   "source": [
    "train.describe()"
   ]
  },
  {
   "cell_type": "markdown",
   "metadata": {},
   "source": [
    "**Get insights on duplicated values**"
   ]
  },
  {
   "cell_type": "code",
   "execution_count": 6,
   "metadata": {},
   "outputs": [],
   "source": [
    "duplicates = train[train['Lyrics'].duplicated(keep=False)].sort_values(by='Lyrics')"
   ]
  },
  {
   "cell_type": "code",
   "execution_count": 12,
   "metadata": {},
   "outputs": [
    {
     "data": {
      "text/html": [
       "<div>\n",
       "<style scoped>\n",
       "    .dataframe tbody tr th:only-of-type {\n",
       "        vertical-align: middle;\n",
       "    }\n",
       "\n",
       "    .dataframe tbody tr th {\n",
       "        vertical-align: top;\n",
       "    }\n",
       "\n",
       "    .dataframe thead th {\n",
       "        text-align: right;\n",
       "    }\n",
       "</style>\n",
       "<table border=\"1\" class=\"dataframe\">\n",
       "  <thead>\n",
       "    <tr style=\"text-align: right;\">\n",
       "      <th></th>\n",
       "      <th>Artist</th>\n",
       "      <th>Song</th>\n",
       "      <th>Genre</th>\n",
       "      <th>Language</th>\n",
       "      <th>Lyrics</th>\n",
       "    </tr>\n",
       "  </thead>\n",
       "  <tbody>\n",
       "    <tr>\n",
       "      <th>12587</th>\n",
       "      <td>cowboy junkies</td>\n",
       "      <td>take me</td>\n",
       "      <td>Rock</td>\n",
       "      <td>en</td>\n",
       "      <td>\\n\\nwhere the thunder meets the light\\nTake me...</td>\n",
       "    </tr>\n",
       "    <tr>\n",
       "      <th>12469</th>\n",
       "      <td>cowboy junkies</td>\n",
       "      <td>take me</td>\n",
       "      <td>Rock</td>\n",
       "      <td>en</td>\n",
       "      <td>\\n\\nwhere the thunder meets the light\\nTake me...</td>\n",
       "    </tr>\n",
       "    <tr>\n",
       "      <th>30</th>\n",
       "      <td>12 stones</td>\n",
       "      <td>back up</td>\n",
       "      <td>Rock</td>\n",
       "      <td>en</td>\n",
       "      <td>\\nI hear the words you say to me\\nI see the wa...</td>\n",
       "    </tr>\n",
       "    <tr>\n",
       "      <th>9</th>\n",
       "      <td>12 stones</td>\n",
       "      <td>back up</td>\n",
       "      <td>Rock</td>\n",
       "      <td>en</td>\n",
       "      <td>\\nI hear the words you say to me\\nI see the wa...</td>\n",
       "    </tr>\n",
       "    <tr>\n",
       "      <th>245656</th>\n",
       "      <td>george strait</td>\n",
       "      <td>lovesick blues</td>\n",
       "      <td>Rock</td>\n",
       "      <td>en</td>\n",
       "      <td>\\nI'm in love,\\nI'm in love,\\nI'm in love with...</td>\n",
       "    </tr>\n",
       "    <tr>\n",
       "      <th>...</th>\n",
       "      <td>...</td>\n",
       "      <td>...</td>\n",
       "      <td>...</td>\n",
       "      <td>...</td>\n",
       "      <td>...</td>\n",
       "    </tr>\n",
       "    <tr>\n",
       "      <th>22528</th>\n",
       "      <td>george michael</td>\n",
       "      <td>you've changed</td>\n",
       "      <td>Rock</td>\n",
       "      <td>en</td>\n",
       "      <td>you've changed\\nthat sparkle in your eyes has ...</td>\n",
       "    </tr>\n",
       "    <tr>\n",
       "      <th>9402</th>\n",
       "      <td>bush</td>\n",
       "      <td>dead meat</td>\n",
       "      <td>Rock</td>\n",
       "      <td>en</td>\n",
       "      <td>your dead meat\\nyour dead meat\\nyour dead meat...</td>\n",
       "    </tr>\n",
       "    <tr>\n",
       "      <th>9431</th>\n",
       "      <td>bush</td>\n",
       "      <td>dead meat</td>\n",
       "      <td>Rock</td>\n",
       "      <td>en</td>\n",
       "      <td>your dead meat\\nyour dead meat\\nyour dead meat...</td>\n",
       "    </tr>\n",
       "    <tr>\n",
       "      <th>11969</th>\n",
       "      <td>coheed and cambria</td>\n",
       "      <td>a favor house atlantic</td>\n",
       "      <td>Metal</td>\n",
       "      <td>en</td>\n",
       "      <td>your eyes tell the stories of a day you wish y...</td>\n",
       "    </tr>\n",
       "    <tr>\n",
       "      <th>11963</th>\n",
       "      <td>coheed and cambria</td>\n",
       "      <td>a favor house atlantic</td>\n",
       "      <td>Metal</td>\n",
       "      <td>en</td>\n",
       "      <td>your eyes tell the stories of a day you wish y...</td>\n",
       "    </tr>\n",
       "  </tbody>\n",
       "</table>\n",
       "<p>26207 rows × 5 columns</p>\n",
       "</div>"
      ],
      "text/plain": [
       "                    Artist                    Song  Genre Language  \\\n",
       "12587       cowboy junkies                 take me   Rock       en   \n",
       "12469       cowboy junkies                 take me   Rock       en   \n",
       "30               12 stones                 back up   Rock       en   \n",
       "9                12 stones                 back up   Rock       en   \n",
       "245656       george strait          lovesick blues   Rock       en   \n",
       "...                    ...                     ...    ...      ...   \n",
       "22528       george michael          you've changed   Rock       en   \n",
       "9402                  bush               dead meat   Rock       en   \n",
       "9431                  bush               dead meat   Rock       en   \n",
       "11969   coheed and cambria  a favor house atlantic  Metal       en   \n",
       "11963   coheed and cambria  a favor house atlantic  Metal       en   \n",
       "\n",
       "                                                   Lyrics  \n",
       "12587   \\n\\nwhere the thunder meets the light\\nTake me...  \n",
       "12469   \\n\\nwhere the thunder meets the light\\nTake me...  \n",
       "30      \\nI hear the words you say to me\\nI see the wa...  \n",
       "9       \\nI hear the words you say to me\\nI see the wa...  \n",
       "245656  \\nI'm in love,\\nI'm in love,\\nI'm in love with...  \n",
       "...                                                   ...  \n",
       "22528   you've changed\\nthat sparkle in your eyes has ...  \n",
       "9402    your dead meat\\nyour dead meat\\nyour dead meat...  \n",
       "9431    your dead meat\\nyour dead meat\\nyour dead meat...  \n",
       "11969   your eyes tell the stories of a day you wish y...  \n",
       "11963   your eyes tell the stories of a day you wish y...  \n",
       "\n",
       "[26207 rows x 5 columns]"
      ]
     },
     "execution_count": 12,
     "metadata": {},
     "output_type": "execute_result"
    }
   ],
   "source": [
    "duplicates"
   ]
  },
  {
   "cell_type": "code",
   "execution_count": 13,
   "metadata": {},
   "outputs": [
    {
     "name": "stdout",
     "output_type": "stream",
     "text": [
      "Genre\n",
      "Jazz      6020\n",
      "Metal     2495\n",
      "Rock     16985\n",
      "dtype: int64\n"
     ]
    }
   ],
   "source": [
    "duplicates_by_genre = train[train.duplicated(subset=['Lyrics', 'Genre'], keep=False)]\n",
    "\n",
    "duplicate_counts_by_genre = duplicates_by_genre.groupby('Genre').size()\n",
    "\n",
    "print(duplicate_counts_by_genre)\n"
   ]
  },
  {
   "cell_type": "code",
   "execution_count": 14,
   "metadata": {},
   "outputs": [
    {
     "data": {
      "text/plain": [
       "array(['Rock', 'Metal', 'Jazz', 'HH', 'Country'], dtype=object)"
      ]
     },
     "execution_count": 14,
     "metadata": {},
     "output_type": "execute_result"
    }
   ],
   "source": [
    "train[\"Genre\"].unique()"
   ]
  },
  {
   "cell_type": "code",
   "execution_count": 15,
   "metadata": {},
   "outputs": [
    {
     "data": {
      "text/plain": [
       "array(['HH', 'Indie', 'Metal', 'Pop', 'Country', 'Jazz', 'Rock', 'R&B',\n",
       "       'Electronic', 'Folk'], dtype=object)"
      ]
     },
     "execution_count": 15,
     "metadata": {},
     "output_type": "execute_result"
    }
   ],
   "source": [
    "test[\"Genre\"].unique()"
   ]
  },
  {
   "cell_type": "code",
   "execution_count": 16,
   "metadata": {},
   "outputs": [
    {
     "data": {
      "text/html": [
       "<div>\n",
       "<style scoped>\n",
       "    .dataframe tbody tr th:only-of-type {\n",
       "        vertical-align: middle;\n",
       "    }\n",
       "\n",
       "    .dataframe tbody tr th {\n",
       "        vertical-align: top;\n",
       "    }\n",
       "\n",
       "    .dataframe thead th {\n",
       "        text-align: right;\n",
       "    }\n",
       "</style>\n",
       "<table border=\"1\" class=\"dataframe\">\n",
       "  <thead>\n",
       "    <tr style=\"text-align: right;\">\n",
       "      <th></th>\n",
       "      <th>Song year</th>\n",
       "      <th>Track_id</th>\n",
       "    </tr>\n",
       "  </thead>\n",
       "  <tbody>\n",
       "    <tr>\n",
       "      <th>count</th>\n",
       "      <td>7935.000000</td>\n",
       "      <td>7935.000000</td>\n",
       "    </tr>\n",
       "    <tr>\n",
       "      <th>mean</th>\n",
       "      <td>2007.943793</td>\n",
       "      <td>13262.260744</td>\n",
       "    </tr>\n",
       "    <tr>\n",
       "      <th>std</th>\n",
       "      <td>5.201110</td>\n",
       "      <td>7612.173049</td>\n",
       "    </tr>\n",
       "    <tr>\n",
       "      <th>min</th>\n",
       "      <td>1970.000000</td>\n",
       "      <td>3.000000</td>\n",
       "    </tr>\n",
       "    <tr>\n",
       "      <th>25%</th>\n",
       "      <td>2006.000000</td>\n",
       "      <td>6708.500000</td>\n",
       "    </tr>\n",
       "    <tr>\n",
       "      <th>50%</th>\n",
       "      <td>2007.000000</td>\n",
       "      <td>13169.000000</td>\n",
       "    </tr>\n",
       "    <tr>\n",
       "      <th>75%</th>\n",
       "      <td>2011.000000</td>\n",
       "      <td>19840.000000</td>\n",
       "    </tr>\n",
       "    <tr>\n",
       "      <th>max</th>\n",
       "      <td>2016.000000</td>\n",
       "      <td>26446.000000</td>\n",
       "    </tr>\n",
       "  </tbody>\n",
       "</table>\n",
       "</div>"
      ],
      "text/plain": [
       "         Song year      Track_id\n",
       "count  7935.000000   7935.000000\n",
       "mean   2007.943793  13262.260744\n",
       "std       5.201110   7612.173049\n",
       "min    1970.000000      3.000000\n",
       "25%    2006.000000   6708.500000\n",
       "50%    2007.000000  13169.000000\n",
       "75%    2011.000000  19840.000000\n",
       "max    2016.000000  26446.000000"
      ]
     },
     "execution_count": 16,
     "metadata": {},
     "output_type": "execute_result"
    }
   ],
   "source": [
    "test.describe()"
   ]
  },
  {
   "cell_type": "markdown",
   "metadata": {},
   "source": [
    "**lets define our `stop_words` and `lemmatizer`**"
   ]
  },
  {
   "cell_type": "code",
   "execution_count": 7,
   "metadata": {},
   "outputs": [],
   "source": [
    "stop_words = set(stopwords.words('english'))\n",
    "lemmatizer = WordNetLemmatizer()"
   ]
  },
  {
   "cell_type": "markdown",
   "metadata": {},
   "source": [
    "**Here we will make a preprocessing function to clean the lyrics string and also tokenize it**"
   ]
  },
  {
   "cell_type": "code",
   "execution_count": 8,
   "metadata": {},
   "outputs": [],
   "source": [
    "def text_cleaner(text):\n",
    "    text = re.sub(r'\\@w+|\\#','', text)\n",
    "    text = re.sub(r'[^A-Za-z\\s]', '', text)\n",
    "    text = text.lower()\n",
    "    tokens = word_tokenize(text)\n",
    "    tokens = [lemmatizer.lemmatize(word) for word in tokens if word not in stop_words]\n",
    "    return ' '.join(tokens)"
   ]
  },
  {
   "cell_type": "code",
   "execution_count": 9,
   "metadata": {},
   "outputs": [],
   "source": [
    "train['Lyrics'] = train['Lyrics'].apply(text_cleaner)"
   ]
  },
  {
   "cell_type": "code",
   "execution_count": 10,
   "metadata": {},
   "outputs": [],
   "source": [
    "test = test[(test['Genre'].isin(genre))]\n",
    "test['Lyrics'] = test['Lyrics'].apply(text_cleaner)"
   ]
  },
  {
   "cell_type": "markdown",
   "metadata": {},
   "source": [
    "**Lets check how it affected `Lyrics` column**"
   ]
  },
  {
   "cell_type": "code",
   "execution_count": 21,
   "metadata": {},
   "outputs": [
    {
     "data": {
      "text/html": [
       "<div>\n",
       "<style scoped>\n",
       "    .dataframe tbody tr th:only-of-type {\n",
       "        vertical-align: middle;\n",
       "    }\n",
       "\n",
       "    .dataframe tbody tr th {\n",
       "        vertical-align: top;\n",
       "    }\n",
       "\n",
       "    .dataframe thead th {\n",
       "        text-align: right;\n",
       "    }\n",
       "</style>\n",
       "<table border=\"1\" class=\"dataframe\">\n",
       "  <thead>\n",
       "    <tr style=\"text-align: right;\">\n",
       "      <th></th>\n",
       "      <th>Artist</th>\n",
       "      <th>Song</th>\n",
       "      <th>Genre</th>\n",
       "      <th>Language</th>\n",
       "      <th>Lyrics</th>\n",
       "    </tr>\n",
       "  </thead>\n",
       "  <tbody>\n",
       "    <tr>\n",
       "      <th>0</th>\n",
       "      <td>12 stones</td>\n",
       "      <td>world so cold</td>\n",
       "      <td>Rock</td>\n",
       "      <td>en</td>\n",
       "      <td>start pain followed hate fueled endless questi...</td>\n",
       "    </tr>\n",
       "    <tr>\n",
       "      <th>1</th>\n",
       "      <td>12 stones</td>\n",
       "      <td>broken</td>\n",
       "      <td>Rock</td>\n",
       "      <td>en</td>\n",
       "      <td>freedom alone alone patiently waiting phone ho...</td>\n",
       "    </tr>\n",
       "    <tr>\n",
       "      <th>2</th>\n",
       "      <td>12 stones</td>\n",
       "      <td>3 leaf loser</td>\n",
       "      <td>Rock</td>\n",
       "      <td>en</td>\n",
       "      <td>biting hand feed lying voice inside reach beg ...</td>\n",
       "    </tr>\n",
       "    <tr>\n",
       "      <th>3</th>\n",
       "      <td>12 stones</td>\n",
       "      <td>anthem for the underdog</td>\n",
       "      <td>Rock</td>\n",
       "      <td>en</td>\n",
       "      <td>say know cant imagine wait across line thought...</td>\n",
       "    </tr>\n",
       "    <tr>\n",
       "      <th>4</th>\n",
       "      <td>12 stones</td>\n",
       "      <td>adrenaline</td>\n",
       "      <td>Rock</td>\n",
       "      <td>en</td>\n",
       "      <td>heart beating faster cant control feeling anym...</td>\n",
       "    </tr>\n",
       "  </tbody>\n",
       "</table>\n",
       "</div>"
      ],
      "text/plain": [
       "      Artist                     Song Genre Language  \\\n",
       "0  12 stones            world so cold  Rock       en   \n",
       "1  12 stones                   broken  Rock       en   \n",
       "2  12 stones             3 leaf loser  Rock       en   \n",
       "3  12 stones  anthem for the underdog  Rock       en   \n",
       "4  12 stones               adrenaline  Rock       en   \n",
       "\n",
       "                                              Lyrics  \n",
       "0  start pain followed hate fueled endless questi...  \n",
       "1  freedom alone alone patiently waiting phone ho...  \n",
       "2  biting hand feed lying voice inside reach beg ...  \n",
       "3  say know cant imagine wait across line thought...  \n",
       "4  heart beating faster cant control feeling anym...  "
      ]
     },
     "execution_count": 21,
     "metadata": {},
     "output_type": "execute_result"
    }
   ],
   "source": [
    "train.head()"
   ]
  },
  {
   "cell_type": "code",
   "execution_count": 22,
   "metadata": {},
   "outputs": [
    {
     "data": {
      "text/html": [
       "<div>\n",
       "<style scoped>\n",
       "    .dataframe tbody tr th:only-of-type {\n",
       "        vertical-align: middle;\n",
       "    }\n",
       "\n",
       "    .dataframe tbody tr th {\n",
       "        vertical-align: top;\n",
       "    }\n",
       "\n",
       "    .dataframe thead th {\n",
       "        text-align: right;\n",
       "    }\n",
       "</style>\n",
       "<table border=\"1\" class=\"dataframe\">\n",
       "  <thead>\n",
       "    <tr style=\"text-align: right;\">\n",
       "      <th></th>\n",
       "      <th>Song</th>\n",
       "      <th>Song year</th>\n",
       "      <th>Artist</th>\n",
       "      <th>Genre</th>\n",
       "      <th>Lyrics</th>\n",
       "      <th>Track_id</th>\n",
       "    </tr>\n",
       "  </thead>\n",
       "  <tbody>\n",
       "    <tr>\n",
       "      <th>0</th>\n",
       "      <td>craftsmanship</td>\n",
       "      <td>2005</td>\n",
       "      <td>buck-65</td>\n",
       "      <td>HH</td>\n",
       "      <td>folk spend day daydreaming finding clue whole ...</td>\n",
       "      <td>8294</td>\n",
       "    </tr>\n",
       "    <tr>\n",
       "      <th>2</th>\n",
       "      <td>riot</td>\n",
       "      <td>2013</td>\n",
       "      <td>bullet-for-my-valentine</td>\n",
       "      <td>Metal</td>\n",
       "      <td>ready time war well break fucking door smash w...</td>\n",
       "      <td>3301</td>\n",
       "    </tr>\n",
       "    <tr>\n",
       "      <th>4</th>\n",
       "      <td>believe-in-a-dollar</td>\n",
       "      <td>2012</td>\n",
       "      <td>cassidy</td>\n",
       "      <td>HH</td>\n",
       "      <td>believe magic young girl heart music free when...</td>\n",
       "      <td>16797</td>\n",
       "    </tr>\n",
       "    <tr>\n",
       "      <th>5</th>\n",
       "      <td>mama-bake-a-pie-daddy-kill-a-chicken</td>\n",
       "      <td>2007</td>\n",
       "      <td>bobby-bare</td>\n",
       "      <td>Country</td>\n",
       "      <td>people starin wheel ramp toward plane war ive ...</td>\n",
       "      <td>1251</td>\n",
       "    </tr>\n",
       "    <tr>\n",
       "      <th>6</th>\n",
       "      <td>thinking-about-you</td>\n",
       "      <td>2007</td>\n",
       "      <td>bill-monroe</td>\n",
       "      <td>Country</td>\n",
       "      <td>sigh hour away think love yesterday know shes ...</td>\n",
       "      <td>25217</td>\n",
       "    </tr>\n",
       "  </tbody>\n",
       "</table>\n",
       "</div>"
      ],
      "text/plain": [
       "                                   Song  Song year                   Artist  \\\n",
       "0                         craftsmanship       2005                  buck-65   \n",
       "2                                  riot       2013  bullet-for-my-valentine   \n",
       "4                   believe-in-a-dollar       2012                  cassidy   \n",
       "5  mama-bake-a-pie-daddy-kill-a-chicken       2007               bobby-bare   \n",
       "6                    thinking-about-you       2007              bill-monroe   \n",
       "\n",
       "     Genre                                             Lyrics  Track_id  \n",
       "0       HH  folk spend day daydreaming finding clue whole ...      8294  \n",
       "2    Metal  ready time war well break fucking door smash w...      3301  \n",
       "4       HH  believe magic young girl heart music free when...     16797  \n",
       "5  Country  people starin wheel ramp toward plane war ive ...      1251  \n",
       "6  Country  sigh hour away think love yesterday know shes ...     25217  "
      ]
     },
     "execution_count": 22,
     "metadata": {},
     "output_type": "execute_result"
    }
   ],
   "source": [
    "test.head()"
   ]
  },
  {
   "cell_type": "markdown",
   "metadata": {},
   "source": [
    "**Now we are going to encode our dataset, define vectorizers and models and transform data by vectorizing it**\n",
    "\n",
    "- We will use `fit_transform` on training dataset and `transform` on testing"
   ]
  },
  {
   "cell_type": "code",
   "execution_count": 11,
   "metadata": {},
   "outputs": [],
   "source": [
    "encode_label = LabelEncoder()\n",
    "train['Genre'] = encode_label.fit_transform(train['Genre'])\n",
    "test['Genre'] = encode_label.transform(test['Genre'])"
   ]
  },
  {
   "cell_type": "code",
   "execution_count": 12,
   "metadata": {},
   "outputs": [],
   "source": [
    "countVec = CountVectorizer(max_features=50000)\n",
    "tfidfVec = TfidfVectorizer(max_features=50000)"
   ]
  },
  {
   "cell_type": "code",
   "execution_count": 13,
   "metadata": {},
   "outputs": [],
   "source": [
    "X_train_countVec = countVec.fit_transform(train['Lyrics'])\n",
    "X_test_countVec = countVec.transform(test['Lyrics'])\n",
    "\n",
    "X_train_tfidfVec = tfidfVec.fit_transform(train['Lyrics'])\n",
    "X_test_tfidfVec = tfidfVec.transform(test['Lyrics'])"
   ]
  },
  {
   "cell_type": "code",
   "execution_count": 14,
   "metadata": {},
   "outputs": [],
   "source": [
    "y_train = train['Genre']\n",
    "y_test = test['Genre']"
   ]
  },
  {
   "cell_type": "markdown",
   "metadata": {},
   "source": [
    "### Training"
   ]
  },
  {
   "cell_type": "markdown",
   "metadata": {},
   "source": [
    "**We will make a function to train models**"
   ]
  },
  {
   "cell_type": "code",
   "execution_count": 15,
   "metadata": {},
   "outputs": [],
   "source": [
    "def train(model, X_train, X_test, y_train, y_test, model_name, vectorizer):\n",
    "    model.fit(X_train, y_train)\n",
    "    y_pred = model.predict(X_test)\n",
    "    \n",
    "    print(f\"\\nClassification Report for {model_name} with {vectorizer}:\")\n",
    "    print(classification_report(y_test, y_pred, target_names=encode_label.classes_))\n",
    "    \n",
    "    cm = confusion_matrix(y_test, y_pred)\n",
    "    sns.heatmap(cm, annot=True, fmt='d', cmap='Blues', xticklabels=encode_label.classes_, yticklabels=encode_label.classes_)\n",
    "    plt.title(f'Confusion Matrix for {model_name} with {vectorizer}')\n",
    "    plt.xlabel('Predicted')\n",
    "    plt.ylabel('True')\n",
    "    plt.show()"
   ]
  },
  {
   "cell_type": "code",
   "execution_count": 28,
   "metadata": {},
   "outputs": [],
   "source": [
    "lr = LogisticRegression(class_weight='balanced', max_iter=10000)"
   ]
  },
  {
   "cell_type": "code",
   "execution_count": 29,
   "metadata": {},
   "outputs": [
    {
     "name": "stdout",
     "output_type": "stream",
     "text": [
      "\n",
      "Classification Report for logisticRegression with Tfidf Vectorizer:\n",
      "              precision    recall  f1-score   support\n",
      "\n",
      "     Country       0.64      0.47      0.54       810\n",
      "          HH       0.92      0.78      0.84       960\n",
      "        Jazz       0.58      0.52      0.55       660\n",
      "       Metal       0.59      0.83      0.69       810\n",
      "        Rock       0.52      0.55      0.54      1410\n",
      "\n",
      "    accuracy                           0.63      4650\n",
      "   macro avg       0.65      0.63      0.63      4650\n",
      "weighted avg       0.64      0.63      0.63      4650\n",
      "\n"
     ]
    },
    {
     "data": {
      "image/png": "[encoded data removed]",
      "text/plain": [
       "<Figure size 640x480 with 2 Axes>"
      ]
     },
     "metadata": {},
     "output_type": "display_data"
    }
   ],
   "source": [
    "train(lr, X_train_tfidfVec, X_test_tfidfVec, y_train, y_test, 'logisticRegression','Tfidf Vectorizer')"
   ]
  },
  {
   "cell_type": "code",
   "execution_count": 30,
   "metadata": {},
   "outputs": [
    {
     "name": "stdout",
     "output_type": "stream",
     "text": [
      "\n",
      "Classification Report for Logistic Regression with Count Vectorizer:\n",
      "              precision    recall  f1-score   support\n",
      "\n",
      "     Country       0.66      0.28      0.39       810\n",
      "          HH       0.93      0.59      0.72       960\n",
      "        Jazz       0.56      0.54      0.55       660\n",
      "       Metal       0.60      0.74      0.66       810\n",
      "        Rock       0.46      0.67      0.54      1410\n",
      "\n",
      "    accuracy                           0.58      4650\n",
      "   macro avg       0.64      0.56      0.57      4650\n",
      "weighted avg       0.63      0.58      0.57      4650\n",
      "\n"
     ]
    },
    {
     "data": {
      "image/png": "[encoded data removed]",
      "text/plain": [
       "<Figure size 640x480 with 2 Axes>"
      ]
     },
     "metadata": {},
     "output_type": "display_data"
    }
   ],
   "source": [
    "train(lr, X_train_countVec, X_test_countVec, y_train, y_test,\"Logistic Regression\", 'Count Vectorizer')"
   ]
  },
  {
   "cell_type": "code",
   "execution_count": 31,
   "metadata": {},
   "outputs": [],
   "source": [
    "rf = RandomForestClassifier(class_weight='balanced')"
   ]
  },
  {
   "cell_type": "code",
   "execution_count": 32,
   "metadata": {},
   "outputs": [
    {
     "name": "stdout",
     "output_type": "stream",
     "text": [
      "\n",
      "Classification Report for Random Forest with Tfidf Vectorizer:\n",
      "              precision    recall  f1-score   support\n",
      "\n",
      "     Country       1.00      0.01      0.02       810\n",
      "          HH       0.98      0.25      0.40       960\n",
      "        Jazz       0.92      0.31      0.46       660\n",
      "       Metal       0.86      0.29      0.43       810\n",
      "        Rock       0.35      0.97      0.51      1410\n",
      "\n",
      "    accuracy                           0.44      4650\n",
      "   macro avg       0.82      0.37      0.37      4650\n",
      "weighted avg       0.76      0.44      0.38      4650\n",
      "\n"
     ]
    },
    {
     "data": {
      "image/png": "[encoded data removed]",
      "text/plain": [
       "<Figure size 640x480 with 2 Axes>"
      ]
     },
     "metadata": {},
     "output_type": "display_data"
    }
   ],
   "source": [
    "train(rf, X_train_tfidfVec, X_test_tfidfVec, y_train, y_test,'Random Forest','Tfidf Vectorizer')"
   ]
  },
  {
   "cell_type": "code",
   "execution_count": 33,
   "metadata": {},
   "outputs": [
    {
     "name": "stdout",
     "output_type": "stream",
     "text": [
      "\n",
      "Classification Report for Random Forest with Count Vectorizer:\n",
      "              precision    recall  f1-score   support\n",
      "\n",
      "     Country       0.88      0.02      0.03       810\n",
      "          HH       0.97      0.25      0.39       960\n",
      "        Jazz       0.92      0.32      0.47       660\n",
      "       Metal       0.85      0.28      0.42       810\n",
      "        Rock       0.35      0.97      0.52      1410\n",
      "\n",
      "    accuracy                           0.44      4650\n",
      "   macro avg       0.79      0.37      0.37      4650\n",
      "weighted avg       0.74      0.44      0.38      4650\n",
      "\n"
     ]
    },
    {
     "data": {
      "image/png": "[encoded data removed]",
      "text/plain": [
       "<Figure size 640x480 with 2 Axes>"
      ]
     },
     "metadata": {},
     "output_type": "display_data"
    }
   ],
   "source": [
    "train(rf, X_train_countVec, X_test_countVec, y_train, y_test,'Random Forest','Count Vectorizer')"
   ]
  },
  {
   "cell_type": "markdown",
   "metadata": {},
   "source": [
    "### Using cuML to train SVC on GPU to improve training time\n"
   ]
  },
  {
   "cell_type": "markdown",
   "metadata": {},
   "source": [
    "**But first we need to convert data to support cuML library and models**\n",
    "\n",
    "- Converting to csr_matrix ensures that sparse data, like word vectors from CountVectorizer or TF-IDF, is stored efficiently by keeping only non-zero values. This reduces memory usage and speeds up operations on large datasets.\n",
    "- Switching to float32 cuts memory usage in half compared to float64. This format is more compatible with GPU-accelerated libraries like CuPy, offering a good balance between precision and performance.\n",
    "- CuPy allows data to be processed on NVIDIA GPUs, speeding up computation for large datasets and complex operations. By converting to CuPy's sparse format, you take full advantage of parallel GPU processing for faster model training."
   ]
  },
  {
   "cell_type": "code",
   "execution_count": 16,
   "metadata": {},
   "outputs": [],
   "source": [
    "X_train_count_float32_csrMatrix = csr_matrix(X_train_countVec, dtype=cp.float32)\n",
    "X_test_count_float32_csrMatrix = csr_matrix(X_test_countVec, dtype=cp.float32)"
   ]
  },
  {
   "cell_type": "code",
   "execution_count": null,
   "metadata": {},
   "outputs": [],
   "source": [
    "X_train_tfidf_float32_csrMatrix = csr_matrix(X_train_tfidfVec, dtype=cp.float32)\n",
    "X_test_tfidf_float32_csrMatrix = csr_matrix(X_test_tfidfVec, dtype=cp.float32)"
   ]
  },
  {
   "cell_type": "code",
   "execution_count": null,
   "metadata": {},
   "outputs": [],
   "source": [
    "X_train_count_cupy = cp.sparse.csr_matrix(X_train_count_float32_csrMatrix)\n",
    "X_test_count_cupy = cp.sparse.csr_matrix(X_test_count_float32_csrMatrix)"
   ]
  },
  {
   "cell_type": "code",
   "execution_count": null,
   "metadata": {},
   "outputs": [],
   "source": [
    "X_train_tfidf_cupy = cp.sparse.csr_matrix(X_train_tfidf_float32_csrMatrix)\n",
    "X_test_tfidf_cupy = cp.sparse.csr_matrix(X_test_tfidf_float32_csrMatrix)"
   ]
  },
  {
   "cell_type": "code",
   "execution_count": null,
   "metadata": {},
   "outputs": [],
   "source": [
    "y_train_cupy = cp.array(y_train.to_numpy(), dtype=cp.int32)\n",
    "y_test_cupy = cp.array(y_test.to_numpy(), dtype=cp.int32)"
   ]
  },
  {
   "cell_type": "markdown",
   "metadata": {},
   "source": [
    "**Here we will make a function to train SVC models using cuML**"
   ]
  },
  {
   "cell_type": "code",
   "execution_count": 17,
   "metadata": {},
   "outputs": [],
   "source": [
    "def cuML_train(model, X_train, X_test, y_train, y_test, model_name, vectorizer_name):\n",
    "    model.fit(X_train, y_train)\n",
    "    y_pred = model.predict(X_test)\n",
    "    \n",
    "    print(f\"\\nClassification Report for {model_name} with {vectorizer_name}:\")\n",
    "    print(classification_report(cp.asnumpy(y_test), cp.asnumpy(y_pred), target_names=encode_label.classes_))\n",
    "    \n",
    "    confusionMatrix = confusion_matrix(cp.asnumpy(y_test), cp.asnumpy(y_pred))\n",
    "    sns.heatmap(confusionMatrix, annot=True, fmt='d', cmap='Blues', xticklabels=encode_label.classes_, yticklabels=encode_label.classes_)\n",
    "    plt.title(f'Confusion Matrix for {model_name} with {vectorizer_name}')\n",
    "    plt.xlabel('Predicted')\n",
    "    plt.ylabel('True')\n",
    "    plt.show()"
   ]
  },
  {
   "cell_type": "markdown",
   "metadata": {},
   "source": [
    "**Defining model**"
   ]
  },
  {
   "cell_type": "code",
   "execution_count": 18,
   "metadata": {},
   "outputs": [],
   "source": [
    "SVC_cuML = cuSVC(kernel = \"rbf\", probability=True, class_weight='balanced')"
   ]
  },
  {
   "cell_type": "code",
   "execution_count": 37,
   "metadata": {},
   "outputs": [
    {
     "name": "stdout",
     "output_type": "stream",
     "text": [
      "[W] [05:00:58.749077] Sample weights are currently ignored for multi class classification\n",
      "[W] [05:02:38.408955] Sample weights are currently ignored for multi class classification\n",
      "[W] [05:04:18.159253] Sample weights are currently ignored for multi class classification\n",
      "[W] [05:05:58.520177] Sample weights are currently ignored for multi class classification\n",
      "[W] [05:07:37.618347] Sample weights are currently ignored for multi class classification\n",
      "\n",
      "Classification Report for cuML SVC with Count Vectorizer:\n",
      "              precision    recall  f1-score   support\n",
      "\n",
      "     Country       0.56      0.56      0.56       810\n",
      "          HH       0.82      0.86      0.84       960\n",
      "        Jazz       0.58      0.56      0.57       660\n",
      "       Metal       0.63      0.82      0.71       810\n",
      "        Rock       0.57      0.46      0.51      1410\n",
      "\n",
      "    accuracy                           0.64      4650\n",
      "   macro avg       0.63      0.65      0.64      4650\n",
      "weighted avg       0.63      0.64      0.63      4650\n",
      "\n"
     ]
    },
    {
     "data": {
      "image/png": "[encoded data removed]",
      "text/plain": [
       "<Figure size 640x480 with 2 Axes>"
      ]
     },
     "metadata": {},
     "output_type": "display_data"
    }
   ],
   "source": [
    "cuML_train(SVC_cuML, X_train_count_cupy, X_test_count_cupy, y_train_cupy, y_test_cupy, 'cuML SVC', 'Count Vectorizer')"
   ]
  },
  {
   "cell_type": "code",
   "execution_count": 19,
   "metadata": {},
   "outputs": [
    {
     "name": "stdout",
     "output_type": "stream",
     "text": [
      "[W] [14:12:26.733111] Sample weights are currently ignored for multi class classification\n",
      "[W] [14:14:20.595877] Sample weights are currently ignored for multi class classification\n",
      "[W] [14:16:15.122395] Sample weights are currently ignored for multi class classification\n",
      "[W] [14:18:06.489816] Sample weights are currently ignored for multi class classification\n",
      "[W] [15:32:02.664048] Sample weights are currently ignored for multi class classification\n",
      "\n",
      "Classification Report for cuML SVC with Tfidf Vectorizer:\n",
      "              precision    recall  f1-score   support\n",
      "\n",
      "     Country       0.62      0.57      0.60       810\n",
      "          HH       0.89      0.80      0.85       960\n",
      "        Jazz       0.77      0.52      0.62       660\n",
      "       Metal       0.70      0.78      0.74       810\n",
      "        Rock       0.55      0.66      0.60      1410\n",
      "\n",
      "    accuracy                           0.67      4650\n",
      "   macro avg       0.71      0.67      0.68      4650\n",
      "weighted avg       0.69      0.67      0.68      4650\n",
      "\n"
     ]
    },
    {
     "data": {
      "image/png": "[encoded data removed]",
      "text/plain": [
       "<Figure size 640x480 with 2 Axes>"
      ]
     },
     "metadata": {},
     "output_type": "display_data"
    }
   ],
   "source": [
    "cuML_train(SVC_cuML, X_train_tfidf_cupy, X_test_tfidf_cupy, y_train_cupy, y_test_cupy, 'cuML SVC', 'Tfidf Vectorizer')"
   ]
  },
  {
   "cell_type": "markdown",
   "metadata": {},
   "source": [
    "---"
   ]
  },
  {
   "cell_type": "markdown",
   "metadata": {},
   "source": [
    "### Insights \n"
   ]
  },
  {
   "cell_type": "markdown",
   "metadata": {},
   "source": [
    "### 1. Logistic Regression with Count Vectorizer and Tf-idf Vectorizer:\n",
    "\n",
    "#### Count Vectorizer:\n",
    "- **Precision, recall, and F1-scores** are low for several classes, especially for \"Country\" and \"Rock\" genres, indicating difficulty in predicting these classes.\n",
    "- **Confusion Matrix** shows a significant amount of misclassification for these classes. For example, many \"Country\" predictions are classified as \"Rock.\"\n",
    "\n",
    "#### Tf-idf Vectorizer:\n",
    "- **Slight improvement in performance** over Count Vectorizer, especially for \"Rock\" and \"Jazz.\"\n",
    "- **Confusion Matrix** shows fewer misclassifications for some classes (e.g., \"Rock\"), but the model still struggles with distinguishing \"Country\" and \"Jazz.\"\n",
    "\n",
    "---\n",
    "\n",
    "### 2. Random Forest with Count Vectorizer and Tf-idf Vectorizer:\n",
    "\n",
    "#### Count Vectorizer:\n",
    "- **Overall performance is poor**, particularly for \"Country\" and \"Jazz.\"\n",
    "- **Confusion Matrix** indicates the model is skewed towards predicting \"Rock,\" with many other classes misclassified as \"Rock.\"\n",
    "\n",
    "#### Tf-idf Vectorizer:\n",
    "- **Similar issues as Count Vectorizer**, though there is a slight improvement in performance metrics.\n",
    "- **Confusion Matrix** shows improvement in predicting \"HH\" and \"Jazz,\" but \"Country\" is still largely misclassified as \"Rock.\"\n",
    "\n",
    "---\n",
    "\n",
    "### 3. cuML SVC with Count Vectorizer and Tf-idf Vectorizer (GPU-accelerated):\n",
    "\n",
    "#### Count Vectorizer:\n",
    "- **Significant improvement in performance**, especially in recall and F1-scores for most classes compared to previous models.\n",
    "- **Confusion Matrix** shows better prediction of \"HH\" and \"Jazz\" with fewer misclassifications.\n",
    "\n",
    "#### Tf-idf Vectorizer:\n",
    "- **Best performance among all models**, with higher precision and recall scores across all classes.\n",
    "- **Confusion Matrix** reflects fewer misclassifications, particularly for \"Rock\" and \"Jazz,\" making this model the most accurate.\n",
    "\n",
    "---\n",
    "\n",
    "### Key Insights:\n",
    "- **Tf-idf Vectorizer** generally performs better than **Count Vectorizer** across all models.\n",
    "- **cuML SVC** offers the best performance due to GPU acceleration, providing faster and more accurate predictions compared to Logistic Regression and Random Forest.\n",
    "- There is still room for improvement in distinguishing between certain genres like \"Country\" and \"Rock.\""
   ]
  }
 ],
 "metadata": {
  "kernelspec": {
   "display_name": "rapids-24.08",
   "language": "python",
   "name": "python3"
  },
  "language_info": {
   "codemirror_mode": {
    "name": "ipython",
    "version": 3
   },
   "file_extension": ".py",
   "mimetype": "text/x-python",
   "name": "python",
   "nbconvert_exporter": "python",
   "pygments_lexer": "ipython3",
   "version": "3.11.9"
  }
 },
 "nbformat": 4,
 "nbformat_minor": 2
}
